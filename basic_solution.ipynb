{
 "cells": [
  {
   "cell_type": "code",
   "execution_count": null,
   "metadata": {},
   "outputs": [],
   "source": [
    "# Анализ тональности\n",
    "Разработка общего конвейера\n",
    "1. Чтение данных (http://study.mokoron.com/)"
   ]
  },
  {
   "cell_type": "code",
   "execution_count": 20,
   "metadata": {},
   "outputs": [],
   "source": [
    "import numpy as np\n",
    "import keras\n",
    "\n",
    "from keras.models import Sequential, Model\n",
    "from keras.layers import Dense, Dropout, Activation, Input, Embedding, Conv1D, GlobalMaxPool1D\n",
    "from keras.preprocessing.text import Tokenizer\n",
    "from keras.preprocessing.sequence import pad_sequences"
   ]
  },
  {
   "cell_type": "code",
   "execution_count": 21,
   "metadata": {},
   "outputs": [],
   "source": [
    "max_words = 20000\n",
    "batch_size = 32\n",
    "epochs = 30\n",
    "max_len = 40"
   ]
  },
  {
   "cell_type": "code",
   "execution_count": 22,
   "metadata": {},
   "outputs": [],
   "source": [
    "import pandas\n",
    "df_train = pandas.read_csv(\"data/train.csv\")\n",
    "df_test = pandas.read_csv(\"data/test.csv\")\n",
    "df_val = pandas.read_csv(\"data/val.csv\")"
   ]
  },
  {
   "cell_type": "code",
   "execution_count": 65,
   "metadata": {},
   "outputs": [
    {
     "data": {
      "text/html": [
       "<div>\n",
       "<style scoped>\n",
       "    .dataframe tbody tr th:only-of-type {\n",
       "        vertical-align: middle;\n",
       "    }\n",
       "\n",
       "    .dataframe tbody tr th {\n",
       "        vertical-align: top;\n",
       "    }\n",
       "\n",
       "    .dataframe thead th {\n",
       "        text-align: right;\n",
       "    }\n",
       "</style>\n",
       "<table border=\"1\" class=\"dataframe\">\n",
       "  <thead>\n",
       "    <tr style=\"text-align: right;\">\n",
       "      <th></th>\n",
       "      <th>id</th>\n",
       "      <th>class</th>\n",
       "    </tr>\n",
       "  </thead>\n",
       "  <tbody>\n",
       "    <tr>\n",
       "      <th>count</th>\n",
       "      <td>181467.000000</td>\n",
       "      <td>181467.000000</td>\n",
       "    </tr>\n",
       "    <tr>\n",
       "      <th>mean</th>\n",
       "      <td>90733.000000</td>\n",
       "      <td>0.507100</td>\n",
       "    </tr>\n",
       "    <tr>\n",
       "      <th>std</th>\n",
       "      <td>52385.154987</td>\n",
       "      <td>0.499951</td>\n",
       "    </tr>\n",
       "    <tr>\n",
       "      <th>min</th>\n",
       "      <td>0.000000</td>\n",
       "      <td>0.000000</td>\n",
       "    </tr>\n",
       "    <tr>\n",
       "      <th>25%</th>\n",
       "      <td>45366.500000</td>\n",
       "      <td>0.000000</td>\n",
       "    </tr>\n",
       "    <tr>\n",
       "      <th>50%</th>\n",
       "      <td>90733.000000</td>\n",
       "      <td>1.000000</td>\n",
       "    </tr>\n",
       "    <tr>\n",
       "      <th>75%</th>\n",
       "      <td>136099.500000</td>\n",
       "      <td>1.000000</td>\n",
       "    </tr>\n",
       "    <tr>\n",
       "      <th>max</th>\n",
       "      <td>181466.000000</td>\n",
       "      <td>1.000000</td>\n",
       "    </tr>\n",
       "  </tbody>\n",
       "</table>\n",
       "</div>"
      ],
      "text/plain": [
       "                  id          class\n",
       "count  181467.000000  181467.000000\n",
       "mean    90733.000000       0.507100\n",
       "std     52385.154987       0.499951\n",
       "min         0.000000       0.000000\n",
       "25%     45366.500000       0.000000\n",
       "50%     90733.000000       1.000000\n",
       "75%    136099.500000       1.000000\n",
       "max    181466.000000       1.000000"
      ]
     },
     "execution_count": 65,
     "metadata": {},
     "output_type": "execute_result"
    }
   ],
   "source": [
    "df_train.describe()"
   ]
  },
  {
   "cell_type": "code",
   "execution_count": 24,
   "metadata": {},
   "outputs": [
    {
     "name": "stdout",
     "output_type": "stream",
     "text": [
      "Preparing the Tokenizer...\n"
     ]
    }
   ],
   "source": [
    "print(\"Preparing the Tokenizer...\")\n",
    "tokenizer = Tokenizer(num_words=max_words)\n",
    "tokenizer.fit_on_texts(df_train[\"text\"])"
   ]
  },
  {
   "cell_type": "code",
   "execution_count": 25,
   "metadata": {},
   "outputs": [
    {
     "name": "stdout",
     "output_type": "stream",
     "text": [
      "Vectorizing sequence data...\n"
     ]
    }
   ],
   "source": [
    "print('Vectorizing sequence data...')\n",
    "x_train = tokenizer.texts_to_sequences(df_train[\"text\"])\n",
    "x_test = tokenizer.texts_to_sequences(df_test[\"text\"])\n",
    "x_val = tokenizer.texts_to_sequences(df_val[\"text\"])"
   ]
  },
  {
   "cell_type": "code",
   "execution_count": 26,
   "metadata": {},
   "outputs": [],
   "source": [
    "x_train = pad_sequences(x_train, maxlen=max_len)\n",
    "x_test = pad_sequences(x_test, maxlen=max_len)\n",
    "x_val = pad_sequences(x_val, maxlen=max_len)"
   ]
  },
  {
   "cell_type": "code",
   "execution_count": 27,
   "metadata": {},
   "outputs": [
    {
     "name": "stdout",
     "output_type": "stream",
     "text": [
      "x_train shape: (181467, 40)\n",
      "x_test shape: (22684, 40)\n"
     ]
    }
   ],
   "source": [
    "print('x_train shape:', x_train.shape)\n",
    "print('x_test shape:', x_test.shape)"
   ]
  },
  {
   "cell_type": "code",
   "execution_count": 28,
   "metadata": {},
   "outputs": [
    {
     "data": {
      "text/plain": [
       "array([[    0,     0,     0, ...,    11,    10,    12],\n",
       "       [    0,     0,     0, ..., 13395,    35,  3799],\n",
       "       [    0,     0,     0, ..., 10394, 10395,  3800],\n",
       "       ..., \n",
       "       [    0,     0,     0, ...,    35,     3,    23],\n",
       "       [    0,     0,     0, ...,   219,   458,   169],\n",
       "       [    0,     0,     0, ...,     4,   269,   231]])"
      ]
     },
     "execution_count": 28,
     "metadata": {},
     "output_type": "execute_result"
    }
   ],
   "source": [
    "x_train"
   ]
  },
  {
   "cell_type": "code",
   "execution_count": 29,
   "metadata": {},
   "outputs": [
    {
     "name": "stdout",
     "output_type": "stream",
     "text": [
      "Convert class vector to binary class matrix (for use with categorical_crossentropy)\n",
      "y_train shape: (181467, 2)\n",
      "y_val shape: (22683, 2)\n"
     ]
    }
   ],
   "source": [
    "print('Convert class vector to binary class matrix '\n",
    "      '(for use with categorical_crossentropy)')\n",
    "num_classes = 2\n",
    "y_train = keras.utils.to_categorical(df_train[\"class\"], num_classes)\n",
    "y_val = keras.utils.to_categorical(df_val[\"class\"], num_classes)\n",
    "print('y_train shape:', y_train.shape)\n",
    "print('y_val shape:', y_val.shape)"
   ]
  },
  {
   "cell_type": "code",
   "execution_count": 30,
   "metadata": {},
   "outputs": [
    {
     "data": {
      "text/plain": [
       "array([[ 0.,  1.],\n",
       "       [ 0.,  1.],\n",
       "       [ 1.,  0.],\n",
       "       ..., \n",
       "       [ 1.,  0.],\n",
       "       [ 0.,  1.],\n",
       "       [ 1.,  0.]])"
      ]
     },
     "execution_count": 30,
     "metadata": {},
     "output_type": "execute_result"
    }
   ],
   "source": [
    "y_val"
   ]
  },
  {
   "cell_type": "code",
   "execution_count": 31,
   "metadata": {},
   "outputs": [
    {
     "name": "stdout",
     "output_type": "stream",
     "text": [
      "Building model sequentially 1...\n"
     ]
    }
   ],
   "source": [
    "print('Building model sequentially 1...')\n",
    "model = Sequential()\n",
    "model.add(Embedding(input_dim=max_words, output_dim=128, input_length=max_len))\n",
    "model.add(Conv1D(128, 3))\n",
    "model.add(Activation(\"relu\"))\n",
    "model.add(GlobalMaxPool1D())\n",
    "model.add(Dense(num_classes))\n",
    "model.add(Activation('softmax'))"
   ]
  },
  {
   "cell_type": "code",
   "execution_count": 32,
   "metadata": {},
   "outputs": [
    {
     "data": {
      "text/plain": [
       "[<keras.layers.embeddings.Embedding at 0x1d254c3cc50>,\n",
       " <keras.layers.convolutional.Conv1D at 0x1d254c3cc88>,\n",
       " <keras.layers.core.Activation at 0x1d254c3cf28>,\n",
       " <keras.layers.pooling.GlobalMaxPooling1D at 0x1d25557c048>,\n",
       " <keras.layers.core.Dense at 0x1d25557c978>,\n",
       " <keras.layers.core.Activation at 0x1d24d159d68>]"
      ]
     },
     "execution_count": 32,
     "metadata": {},
     "output_type": "execute_result"
    }
   ],
   "source": [
    "model.layers"
   ]
  },
  {
   "cell_type": "code",
   "execution_count": 33,
   "metadata": {},
   "outputs": [
    {
     "name": "stdout",
     "output_type": "stream",
     "text": [
      "backend: tensorflow\n",
      "class_name: Sequential\n",
      "config:\n",
      "- class_name: Embedding\n",
      "  config:\n",
      "    activity_regularizer: null\n",
      "    batch_input_shape: !!python/tuple [null, 40]\n",
      "    dtype: float32\n",
      "    embeddings_constraint: null\n",
      "    embeddings_initializer:\n",
      "      class_name: RandomUniform\n",
      "      config: {maxval: 0.05, minval: -0.05, seed: null}\n",
      "    embeddings_regularizer: null\n",
      "    input_dim: 20000\n",
      "    input_length: 40\n",
      "    mask_zero: false\n",
      "    name: embedding_2\n",
      "    output_dim: 128\n",
      "    trainable: true\n",
      "- class_name: Conv1D\n",
      "  config:\n",
      "    activation: linear\n",
      "    activity_regularizer: null\n",
      "    bias_constraint: null\n",
      "    bias_initializer:\n",
      "      class_name: Zeros\n",
      "      config: {}\n",
      "    bias_regularizer: null\n",
      "    dilation_rate: !!python/tuple [1]\n",
      "    filters: 128\n",
      "    kernel_constraint: null\n",
      "    kernel_initializer:\n",
      "      class_name: VarianceScaling\n",
      "      config: {distribution: uniform, mode: fan_avg, scale: 1.0, seed: null}\n",
      "    kernel_regularizer: null\n",
      "    kernel_size: !!python/tuple [3]\n",
      "    name: conv1d_2\n",
      "    padding: valid\n",
      "    strides: !!python/tuple [1]\n",
      "    trainable: true\n",
      "    use_bias: true\n",
      "- class_name: Activation\n",
      "  config: {activation: relu, name: activation_3, trainable: true}\n",
      "- class_name: GlobalMaxPooling1D\n",
      "  config: {name: global_max_pooling1d_2, trainable: true}\n",
      "- class_name: Dense\n",
      "  config:\n",
      "    activation: linear\n",
      "    activity_regularizer: null\n",
      "    bias_constraint: null\n",
      "    bias_initializer:\n",
      "      class_name: Zeros\n",
      "      config: {}\n",
      "    bias_regularizer: null\n",
      "    kernel_constraint: null\n",
      "    kernel_initializer:\n",
      "      class_name: VarianceScaling\n",
      "      config: {distribution: uniform, mode: fan_avg, scale: 1.0, seed: null}\n",
      "    kernel_regularizer: null\n",
      "    name: dense_2\n",
      "    trainable: true\n",
      "    units: 2\n",
      "    use_bias: true\n",
      "- class_name: Activation\n",
      "  config: {activation: softmax, name: activation_4, trainable: true}\n",
      "keras_version: 2.1.2\n",
      "\n"
     ]
    }
   ],
   "source": [
    "print(model.to_yaml())"
   ]
  },
  {
   "cell_type": "code",
   "execution_count": 34,
   "metadata": {},
   "outputs": [
    {
     "name": "stdout",
     "output_type": "stream",
     "text": [
      "{'dot': 'C:\\\\Program Files (x86)\\\\Graphviz2.38\\\\bin\\\\dot.exe', 'twopi': 'C:\\\\Program Files (x86)\\\\Graphviz2.38\\\\bin\\\\twopi.exe', 'neato': 'C:\\\\Program Files (x86)\\\\Graphviz2.38\\\\bin\\\\neato.exe', 'circo': 'C:\\\\Program Files (x86)\\\\Graphviz2.38\\\\bin\\\\circo.exe', 'fdp': 'C:\\\\Program Files (x86)\\\\Graphviz2.38\\\\bin\\\\fdp.exe', 'sfdp': 'C:\\\\Program Files (x86)\\\\Graphviz2.38\\\\bin\\\\sfdp.exe'}\n"
     ]
    }
   ],
   "source": [
    "import graphviz\n",
    "import pydot_ng as pydot\n",
    "print (pydot.find_graphviz())"
   ]
  },
  {
   "cell_type": "code",
   "execution_count": 35,
   "metadata": {},
   "outputs": [],
   "source": [
    "from keras.utils.vis_utils import plot_model\n",
    "plot_model(model, to_file='model.png', show_shapes=True)"
   ]
  },
  {
   "cell_type": "code",
   "execution_count": 36,
   "metadata": {},
   "outputs": [
    {
     "data": {
      "image/svg+xml": [
       "<svg height=\"553pt\" viewBox=\"0.00 0.00 455.00 553.00\" width=\"455pt\" xmlns=\"http://www.w3.org/2000/svg\" xmlns:xlink=\"http://www.w3.org/1999/xlink\">\n",
       "<g class=\"graph\" id=\"graph0\" transform=\"scale(1 1) rotate(0) translate(4 549)\">\n",
       "<title>G</title>\n",
       "<polygon fill=\"white\" points=\"-4,4 -4,-549 451,-549 451,4 -4,4\" stroke=\"none\"/>\n",
       "<!-- 2002876878072 -->\n",
       "<g class=\"node\" id=\"node1\"><title>2002876878072</title>\n",
       "<polygon fill=\"none\" points=\"59.5,-498.5 59.5,-544.5 387.5,-544.5 387.5,-498.5 59.5,-498.5\" stroke=\"black\"/>\n",
       "<text font-family=\"Times New Roman,serif\" font-size=\"14.00\" text-anchor=\"middle\" x=\"157\" y=\"-517.8\">embedding_2_input: InputLayer</text>\n",
       "<polyline fill=\"none\" points=\"254.5,-498.5 254.5,-544.5 \" stroke=\"black\"/>\n",
       "<text font-family=\"Times New Roman,serif\" font-size=\"14.00\" text-anchor=\"middle\" x=\"282.5\" y=\"-529.3\">input:</text>\n",
       "<polyline fill=\"none\" points=\"254.5,-521.5 310.5,-521.5 \" stroke=\"black\"/>\n",
       "<text font-family=\"Times New Roman,serif\" font-size=\"14.00\" text-anchor=\"middle\" x=\"282.5\" y=\"-506.3\">output:</text>\n",
       "<polyline fill=\"none\" points=\"310.5,-498.5 310.5,-544.5 \" stroke=\"black\"/>\n",
       "<text font-family=\"Times New Roman,serif\" font-size=\"14.00\" text-anchor=\"middle\" x=\"349\" y=\"-529.3\">(None, 40)</text>\n",
       "<polyline fill=\"none\" points=\"310.5,-521.5 387.5,-521.5 \" stroke=\"black\"/>\n",
       "<text font-family=\"Times New Roman,serif\" font-size=\"14.00\" text-anchor=\"middle\" x=\"349\" y=\"-506.3\">(None, 40)</text>\n",
       "</g>\n",
       "<!-- 2002876877904 -->\n",
       "<g class=\"node\" id=\"node2\"><title>2002876877904</title>\n",
       "<polygon fill=\"none\" points=\"62,-415.5 62,-461.5 385,-461.5 385,-415.5 62,-415.5\" stroke=\"black\"/>\n",
       "<text font-family=\"Times New Roman,serif\" font-size=\"14.00\" text-anchor=\"middle\" x=\"143.5\" y=\"-434.8\">embedding_2: Embedding</text>\n",
       "<polyline fill=\"none\" points=\"225,-415.5 225,-461.5 \" stroke=\"black\"/>\n",
       "<text font-family=\"Times New Roman,serif\" font-size=\"14.00\" text-anchor=\"middle\" x=\"253\" y=\"-446.3\">input:</text>\n",
       "<polyline fill=\"none\" points=\"225,-438.5 281,-438.5 \" stroke=\"black\"/>\n",
       "<text font-family=\"Times New Roman,serif\" font-size=\"14.00\" text-anchor=\"middle\" x=\"253\" y=\"-423.3\">output:</text>\n",
       "<polyline fill=\"none\" points=\"281,-415.5 281,-461.5 \" stroke=\"black\"/>\n",
       "<text font-family=\"Times New Roman,serif\" font-size=\"14.00\" text-anchor=\"middle\" x=\"333\" y=\"-446.3\">(None, 40)</text>\n",
       "<polyline fill=\"none\" points=\"281,-438.5 385,-438.5 \" stroke=\"black\"/>\n",
       "<text font-family=\"Times New Roman,serif\" font-size=\"14.00\" text-anchor=\"middle\" x=\"333\" y=\"-423.3\">(None, 40, 128)</text>\n",
       "</g>\n",
       "<!-- 2002876878072&#45;&gt;2002876877904 -->\n",
       "<g class=\"edge\" id=\"edge1\"><title>2002876878072-&gt;2002876877904</title>\n",
       "<path d=\"M223.5,-498.366C223.5,-490.152 223.5,-480.658 223.5,-471.725\" fill=\"none\" stroke=\"black\"/>\n",
       "<polygon fill=\"black\" points=\"227,-471.607 223.5,-461.607 220,-471.607 227,-471.607\" stroke=\"black\"/>\n",
       "</g>\n",
       "<!-- 2002876877960 -->\n",
       "<g class=\"node\" id=\"node3\"><title>2002876877960</title>\n",
       "<polygon fill=\"none\" points=\"80,-332.5 80,-378.5 367,-378.5 367,-332.5 80,-332.5\" stroke=\"black\"/>\n",
       "<text font-family=\"Times New Roman,serif\" font-size=\"14.00\" text-anchor=\"middle\" x=\"143.5\" y=\"-351.8\">conv1d_2: Conv1D</text>\n",
       "<polyline fill=\"none\" points=\"207,-332.5 207,-378.5 \" stroke=\"black\"/>\n",
       "<text font-family=\"Times New Roman,serif\" font-size=\"14.00\" text-anchor=\"middle\" x=\"235\" y=\"-363.3\">input:</text>\n",
       "<polyline fill=\"none\" points=\"207,-355.5 263,-355.5 \" stroke=\"black\"/>\n",
       "<text font-family=\"Times New Roman,serif\" font-size=\"14.00\" text-anchor=\"middle\" x=\"235\" y=\"-340.3\">output:</text>\n",
       "<polyline fill=\"none\" points=\"263,-332.5 263,-378.5 \" stroke=\"black\"/>\n",
       "<text font-family=\"Times New Roman,serif\" font-size=\"14.00\" text-anchor=\"middle\" x=\"315\" y=\"-363.3\">(None, 40, 128)</text>\n",
       "<polyline fill=\"none\" points=\"263,-355.5 367,-355.5 \" stroke=\"black\"/>\n",
       "<text font-family=\"Times New Roman,serif\" font-size=\"14.00\" text-anchor=\"middle\" x=\"315\" y=\"-340.3\">(None, 38, 128)</text>\n",
       "</g>\n",
       "<!-- 2002876877904&#45;&gt;2002876877960 -->\n",
       "<g class=\"edge\" id=\"edge2\"><title>2002876877904-&gt;2002876877960</title>\n",
       "<path d=\"M223.5,-415.366C223.5,-407.152 223.5,-397.658 223.5,-388.725\" fill=\"none\" stroke=\"black\"/>\n",
       "<polygon fill=\"black\" points=\"227,-388.607 223.5,-378.607 220,-388.607 227,-388.607\" stroke=\"black\"/>\n",
       "</g>\n",
       "<!-- 2002876878632 -->\n",
       "<g class=\"node\" id=\"node4\"><title>2002876878632</title>\n",
       "<polygon fill=\"none\" points=\"69.5,-249.5 69.5,-295.5 377.5,-295.5 377.5,-249.5 69.5,-249.5\" stroke=\"black\"/>\n",
       "<text font-family=\"Times New Roman,serif\" font-size=\"14.00\" text-anchor=\"middle\" x=\"143.5\" y=\"-268.8\">activation_3: Activation</text>\n",
       "<polyline fill=\"none\" points=\"217.5,-249.5 217.5,-295.5 \" stroke=\"black\"/>\n",
       "<text font-family=\"Times New Roman,serif\" font-size=\"14.00\" text-anchor=\"middle\" x=\"245.5\" y=\"-280.3\">input:</text>\n",
       "<polyline fill=\"none\" points=\"217.5,-272.5 273.5,-272.5 \" stroke=\"black\"/>\n",
       "<text font-family=\"Times New Roman,serif\" font-size=\"14.00\" text-anchor=\"middle\" x=\"245.5\" y=\"-257.3\">output:</text>\n",
       "<polyline fill=\"none\" points=\"273.5,-249.5 273.5,-295.5 \" stroke=\"black\"/>\n",
       "<text font-family=\"Times New Roman,serif\" font-size=\"14.00\" text-anchor=\"middle\" x=\"325.5\" y=\"-280.3\">(None, 38, 128)</text>\n",
       "<polyline fill=\"none\" points=\"273.5,-272.5 377.5,-272.5 \" stroke=\"black\"/>\n",
       "<text font-family=\"Times New Roman,serif\" font-size=\"14.00\" text-anchor=\"middle\" x=\"325.5\" y=\"-257.3\">(None, 38, 128)</text>\n",
       "</g>\n",
       "<!-- 2002876877960&#45;&gt;2002876878632 -->\n",
       "<g class=\"edge\" id=\"edge3\"><title>2002876877960-&gt;2002876878632</title>\n",
       "<path d=\"M223.5,-332.366C223.5,-324.152 223.5,-314.658 223.5,-305.725\" fill=\"none\" stroke=\"black\"/>\n",
       "<polygon fill=\"black\" points=\"227,-305.607 223.5,-295.607 220,-305.607 227,-305.607\" stroke=\"black\"/>\n",
       "</g>\n",
       "<!-- 2002886574152 -->\n",
       "<g class=\"node\" id=\"node5\"><title>2002886574152</title>\n",
       "<polygon fill=\"none\" points=\"0,-166.5 0,-212.5 447,-212.5 447,-166.5 0,-166.5\" stroke=\"black\"/>\n",
       "<text font-family=\"Times New Roman,serif\" font-size=\"14.00\" text-anchor=\"middle\" x=\"143.5\" y=\"-185.8\">global_max_pooling1d_2: GlobalMaxPooling1D</text>\n",
       "<polyline fill=\"none\" points=\"287,-166.5 287,-212.5 \" stroke=\"black\"/>\n",
       "<text font-family=\"Times New Roman,serif\" font-size=\"14.00\" text-anchor=\"middle\" x=\"315\" y=\"-197.3\">input:</text>\n",
       "<polyline fill=\"none\" points=\"287,-189.5 343,-189.5 \" stroke=\"black\"/>\n",
       "<text font-family=\"Times New Roman,serif\" font-size=\"14.00\" text-anchor=\"middle\" x=\"315\" y=\"-174.3\">output:</text>\n",
       "<polyline fill=\"none\" points=\"343,-166.5 343,-212.5 \" stroke=\"black\"/>\n",
       "<text font-family=\"Times New Roman,serif\" font-size=\"14.00\" text-anchor=\"middle\" x=\"395\" y=\"-197.3\">(None, 38, 128)</text>\n",
       "<polyline fill=\"none\" points=\"343,-189.5 447,-189.5 \" stroke=\"black\"/>\n",
       "<text font-family=\"Times New Roman,serif\" font-size=\"14.00\" text-anchor=\"middle\" x=\"395\" y=\"-174.3\">(None, 128)</text>\n",
       "</g>\n",
       "<!-- 2002876878632&#45;&gt;2002886574152 -->\n",
       "<g class=\"edge\" id=\"edge4\"><title>2002876878632-&gt;2002886574152</title>\n",
       "<path d=\"M223.5,-249.366C223.5,-241.152 223.5,-231.658 223.5,-222.725\" fill=\"none\" stroke=\"black\"/>\n",
       "<polygon fill=\"black\" points=\"227,-222.607 223.5,-212.607 220,-222.607 227,-222.607\" stroke=\"black\"/>\n",
       "</g>\n",
       "<!-- 2002886576504 -->\n",
       "<g class=\"node\" id=\"node6\"><title>2002886576504</title>\n",
       "<polygon fill=\"none\" points=\"102,-83.5 102,-129.5 345,-129.5 345,-83.5 102,-83.5\" stroke=\"black\"/>\n",
       "<text font-family=\"Times New Roman,serif\" font-size=\"14.00\" text-anchor=\"middle\" x=\"154\" y=\"-102.8\">dense_2: Dense</text>\n",
       "<polyline fill=\"none\" points=\"206,-83.5 206,-129.5 \" stroke=\"black\"/>\n",
       "<text font-family=\"Times New Roman,serif\" font-size=\"14.00\" text-anchor=\"middle\" x=\"234\" y=\"-114.3\">input:</text>\n",
       "<polyline fill=\"none\" points=\"206,-106.5 262,-106.5 \" stroke=\"black\"/>\n",
       "<text font-family=\"Times New Roman,serif\" font-size=\"14.00\" text-anchor=\"middle\" x=\"234\" y=\"-91.3\">output:</text>\n",
       "<polyline fill=\"none\" points=\"262,-83.5 262,-129.5 \" stroke=\"black\"/>\n",
       "<text font-family=\"Times New Roman,serif\" font-size=\"14.00\" text-anchor=\"middle\" x=\"303.5\" y=\"-114.3\">(None, 128)</text>\n",
       "<polyline fill=\"none\" points=\"262,-106.5 345,-106.5 \" stroke=\"black\"/>\n",
       "<text font-family=\"Times New Roman,serif\" font-size=\"14.00\" text-anchor=\"middle\" x=\"303.5\" y=\"-91.3\">(None, 2)</text>\n",
       "</g>\n",
       "<!-- 2002886574152&#45;&gt;2002886576504 -->\n",
       "<g class=\"edge\" id=\"edge5\"><title>2002886574152-&gt;2002886576504</title>\n",
       "<path d=\"M223.5,-166.366C223.5,-158.152 223.5,-148.658 223.5,-139.725\" fill=\"none\" stroke=\"black\"/>\n",
       "<polygon fill=\"black\" points=\"227,-139.607 223.5,-129.607 220,-139.607 227,-139.607\" stroke=\"black\"/>\n",
       "</g>\n",
       "<!-- 2002748022120 -->\n",
       "<g class=\"node\" id=\"node7\"><title>2002748022120</title>\n",
       "<polygon fill=\"none\" points=\"86.5,-0.5 86.5,-46.5 360.5,-46.5 360.5,-0.5 86.5,-0.5\" stroke=\"black\"/>\n",
       "<text font-family=\"Times New Roman,serif\" font-size=\"14.00\" text-anchor=\"middle\" x=\"160.5\" y=\"-19.8\">activation_4: Activation</text>\n",
       "<polyline fill=\"none\" points=\"234.5,-0.5 234.5,-46.5 \" stroke=\"black\"/>\n",
       "<text font-family=\"Times New Roman,serif\" font-size=\"14.00\" text-anchor=\"middle\" x=\"262.5\" y=\"-31.3\">input:</text>\n",
       "<polyline fill=\"none\" points=\"234.5,-23.5 290.5,-23.5 \" stroke=\"black\"/>\n",
       "<text font-family=\"Times New Roman,serif\" font-size=\"14.00\" text-anchor=\"middle\" x=\"262.5\" y=\"-8.3\">output:</text>\n",
       "<polyline fill=\"none\" points=\"290.5,-0.5 290.5,-46.5 \" stroke=\"black\"/>\n",
       "<text font-family=\"Times New Roman,serif\" font-size=\"14.00\" text-anchor=\"middle\" x=\"325.5\" y=\"-31.3\">(None, 2)</text>\n",
       "<polyline fill=\"none\" points=\"290.5,-23.5 360.5,-23.5 \" stroke=\"black\"/>\n",
       "<text font-family=\"Times New Roman,serif\" font-size=\"14.00\" text-anchor=\"middle\" x=\"325.5\" y=\"-8.3\">(None, 2)</text>\n",
       "</g>\n",
       "<!-- 2002886576504&#45;&gt;2002748022120 -->\n",
       "<g class=\"edge\" id=\"edge6\"><title>2002886576504-&gt;2002748022120</title>\n",
       "<path d=\"M223.5,-83.3664C223.5,-75.1516 223.5,-65.6579 223.5,-56.7252\" fill=\"none\" stroke=\"black\"/>\n",
       "<polygon fill=\"black\" points=\"227,-56.6068 223.5,-46.6068 220,-56.6069 227,-56.6068\" stroke=\"black\"/>\n",
       "</g>\n",
       "</g>\n",
       "</svg>"
      ],
      "text/plain": [
       "<IPython.core.display.SVG object>"
      ]
     },
     "execution_count": 36,
     "metadata": {},
     "output_type": "execute_result"
    }
   ],
   "source": [
    "from IPython.display import SVG\n",
    "from keras.utils.vis_utils import model_to_dot\n",
    "\n",
    "SVG(model_to_dot(model, show_shapes=True).create(prog='dot', format='svg'))"
   ]
  },
  {
   "cell_type": "code",
   "execution_count": 37,
   "metadata": {},
   "outputs": [],
   "source": [
    "from keras.objectives import categorical_crossentropy\n",
    "model.compile(loss='categorical_crossentropy',\n",
    "              optimizer='adam',\n",
    "              metrics=['accuracy'])"
   ]
  },
  {
   "cell_type": "code",
   "execution_count": 40,
   "metadata": {},
   "outputs": [
    {
     "name": "stdout",
     "output_type": "stream",
     "text": [
      "Train on 163320 samples, validate on 18147 samples\n",
      "Epoch 1/30\n",
      "163320/163320 [==============================] - 24s 146us/step - loss: 0.2122 - acc: 0.9152 - val_loss: 0.6172 - val_acc: 0.7666\n",
      "Epoch 2/30\n",
      "163320/163320 [==============================] - 24s 144us/step - loss: 0.1070 - acc: 0.9609 - val_loss: 0.7653 - val_acc: 0.7623\n",
      "Epoch 3/30\n",
      "163320/163320 [==============================] - 24s 145us/step - loss: 0.0573 - acc: 0.9798 - val_loss: 0.9840 - val_acc: 0.7565\n",
      "Epoch 4/30\n",
      "163320/163320 [==============================] - 24s 145us/step - loss: 0.0359 - acc: 0.9872 - val_loss: 1.1506 - val_acc: 0.7559\n"
     ]
    }
   ],
   "source": [
    "from keras.callbacks import TensorBoard  \n",
    "tensorboard=TensorBoard(log_dir='./logs', write_graph=True, write_images=True)\n",
    "from keras.callbacks import EarlyStopping  \n",
    "early_stopping=EarlyStopping(monitor='val_loss', patience=3)  \n",
    "\n",
    "\n",
    "history = model.fit(x_train, y_train,\n",
    "                    batch_size=batch_size,\n",
    "                    epochs=epochs,\n",
    "                    verbose=1,\n",
    "                    validation_split=0.1,\n",
    "                    callbacks=[tensorboard, early_stopping])"
   ]
  },
  {
   "cell_type": "code",
   "execution_count": 41,
   "metadata": {},
   "outputs": [
    {
     "name": "stdout",
     "output_type": "stream",
     "text": [
      "22683/22683 [==============================] - 1s 41us/step\n",
      "\n",
      "\n",
      "Test score: 1.12024093578\n",
      "Test accuracy: 0.759202927308\n"
     ]
    }
   ],
   "source": [
    "score = model.evaluate(x_val, y_val, batch_size=batch_size, verbose=1)\n",
    "print('\\n')\n",
    "print('Test score:', score[0])\n",
    "print('Test accuracy:', score[1])"
   ]
  },
  {
   "cell_type": "code",
   "execution_count": 42,
   "metadata": {},
   "outputs": [
    {
     "name": "stdout",
     "output_type": "stream",
     "text": [
      "22684/22684 [==============================] - 1s 36us/step\n"
     ]
    }
   ],
   "source": [
    "results = model.predict(x_test, batch_size=batch_size, verbose=1)"
   ]
  },
  {
   "cell_type": "code",
   "execution_count": 71,
   "metadata": {},
   "outputs": [
    {
     "data": {
      "text/plain": [
       "array([[  9.99674082e-01,   3.25976143e-04]], dtype=float32)"
      ]
     },
     "execution_count": 71,
     "metadata": {},
     "output_type": "execute_result"
    }
   ],
   "source": [
    "x_text = tokenizer.texts_to_sequences(['Мне не нравится фильм. Сюжет совсем неинтересный и актеры сыграли плохо'])\n",
    "\n",
    "x_text = pad_sequences(x_text, maxlen=max_len)\n",
    "\n",
    "model.predict(x_text)\n"
   ]
  },
  {
   "cell_type": "code",
   "execution_count": 64,
   "metadata": {},
   "outputs": [
    {
     "name": "stdout",
     "output_type": "stream",
     "text": [
      "x_train shape: (19, 40)\n"
     ]
    }
   ],
   "source": [
    "print('x_train shape:', x_text.shape)"
   ]
  },
  {
   "cell_type": "code",
   "execution_count": 67,
   "metadata": {},
   "outputs": [
    {
     "data": {
      "text/plain": [
       "'Делаю пробное печенье по рецепту makeupkaty , пока что без формы) http://t.co/bRZjtMdXyd'"
      ]
     },
     "execution_count": 67,
     "metadata": {},
     "output_type": "execute_result"
    }
   ],
   "source": [
    "df_train['text'][0]"
   ]
  },
  {
   "cell_type": "code",
   "execution_count": null,
   "metadata": {},
   "outputs": [],
   "source": []
  }
 ],
 "metadata": {
  "anaconda-cloud": {},
  "kernelspec": {
   "display_name": "Python 3",
   "language": "python",
   "name": "python3"
  },
  "language_info": {
   "codemirror_mode": {
    "name": "ipython",
    "version": 3
   },
   "file_extension": ".py",
   "mimetype": "text/x-python",
   "name": "python",
   "nbconvert_exporter": "python",
   "pygments_lexer": "ipython3",
   "version": "3.6.5"
  }
 },
 "nbformat": 4,
 "nbformat_minor": 1
}
